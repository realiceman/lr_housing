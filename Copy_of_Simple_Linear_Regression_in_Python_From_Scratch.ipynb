{
  "nbformat": 4,
  "nbformat_minor": 0,
  "metadata": {
    "colab": {
      "provenance": [],
      "include_colab_link": true
    },
    "kernelspec": {
      "name": "python3",
      "display_name": "Python 3"
    },
    "language_info": {
      "name": "python"
    }
  },
  "cells": [
    {
      "cell_type": "markdown",
      "metadata": {
        "id": "view-in-github",
        "colab_type": "text"
      },
      "source": [
        "<a href=\"https://colab.research.google.com/github/realiceman/lr_housing/blob/main/Copy_of_Simple_Linear_Regression_in_Python_From_Scratch.ipynb\" target=\"_parent\"><img src=\"https://colab.research.google.com/assets/colab-badge.svg\" alt=\"Open In Colab\"/></a>"
      ]
    },
    {
      "cell_type": "code",
      "metadata": {
        "id": "lLcfdFJ_nTSW",
        "colab": {
          "base_uri": "https://localhost:8080/",
          "height": 440
        },
        "outputId": "69405e28-df63-4321-b8fd-fa50dd85e0a4"
      },
      "source": [
        "import numpy as np\n",
        "import pandas as pd\n",
        "\n",
        "df = pd.read_csv('sample_data/california_housing_train.csv')\n",
        "df"
      ],
      "execution_count": null,
      "outputs": [
        {
          "output_type": "execute_result",
          "data": {
            "text/html": [
              "<div>\n",
              "<style scoped>\n",
              "    .dataframe tbody tr th:only-of-type {\n",
              "        vertical-align: middle;\n",
              "    }\n",
              "\n",
              "    .dataframe tbody tr th {\n",
              "        vertical-align: top;\n",
              "    }\n",
              "\n",
              "    .dataframe thead th {\n",
              "        text-align: right;\n",
              "    }\n",
              "</style>\n",
              "<table border=\"1\" class=\"dataframe\">\n",
              "  <thead>\n",
              "    <tr style=\"text-align: right;\">\n",
              "      <th></th>\n",
              "      <th>longitude</th>\n",
              "      <th>latitude</th>\n",
              "      <th>housing_median_age</th>\n",
              "      <th>total_rooms</th>\n",
              "      <th>total_bedrooms</th>\n",
              "      <th>population</th>\n",
              "      <th>households</th>\n",
              "      <th>median_income</th>\n",
              "      <th>median_house_value</th>\n",
              "    </tr>\n",
              "  </thead>\n",
              "  <tbody>\n",
              "    <tr>\n",
              "      <th>0</th>\n",
              "      <td>-114.31</td>\n",
              "      <td>34.19</td>\n",
              "      <td>15.0</td>\n",
              "      <td>5612.0</td>\n",
              "      <td>1283.0</td>\n",
              "      <td>1015.0</td>\n",
              "      <td>472.0</td>\n",
              "      <td>1.4936</td>\n",
              "      <td>66900.0</td>\n",
              "    </tr>\n",
              "    <tr>\n",
              "      <th>1</th>\n",
              "      <td>-114.47</td>\n",
              "      <td>34.40</td>\n",
              "      <td>19.0</td>\n",
              "      <td>7650.0</td>\n",
              "      <td>1901.0</td>\n",
              "      <td>1129.0</td>\n",
              "      <td>463.0</td>\n",
              "      <td>1.8200</td>\n",
              "      <td>80100.0</td>\n",
              "    </tr>\n",
              "    <tr>\n",
              "      <th>2</th>\n",
              "      <td>-114.56</td>\n",
              "      <td>33.69</td>\n",
              "      <td>17.0</td>\n",
              "      <td>720.0</td>\n",
              "      <td>174.0</td>\n",
              "      <td>333.0</td>\n",
              "      <td>117.0</td>\n",
              "      <td>1.6509</td>\n",
              "      <td>85700.0</td>\n",
              "    </tr>\n",
              "    <tr>\n",
              "      <th>3</th>\n",
              "      <td>-114.57</td>\n",
              "      <td>33.64</td>\n",
              "      <td>14.0</td>\n",
              "      <td>1501.0</td>\n",
              "      <td>337.0</td>\n",
              "      <td>515.0</td>\n",
              "      <td>226.0</td>\n",
              "      <td>3.1917</td>\n",
              "      <td>73400.0</td>\n",
              "    </tr>\n",
              "    <tr>\n",
              "      <th>4</th>\n",
              "      <td>-114.57</td>\n",
              "      <td>33.57</td>\n",
              "      <td>20.0</td>\n",
              "      <td>1454.0</td>\n",
              "      <td>326.0</td>\n",
              "      <td>624.0</td>\n",
              "      <td>262.0</td>\n",
              "      <td>1.9250</td>\n",
              "      <td>65500.0</td>\n",
              "    </tr>\n",
              "    <tr>\n",
              "      <th>...</th>\n",
              "      <td>...</td>\n",
              "      <td>...</td>\n",
              "      <td>...</td>\n",
              "      <td>...</td>\n",
              "      <td>...</td>\n",
              "      <td>...</td>\n",
              "      <td>...</td>\n",
              "      <td>...</td>\n",
              "      <td>...</td>\n",
              "    </tr>\n",
              "    <tr>\n",
              "      <th>16995</th>\n",
              "      <td>-124.26</td>\n",
              "      <td>40.58</td>\n",
              "      <td>52.0</td>\n",
              "      <td>2217.0</td>\n",
              "      <td>394.0</td>\n",
              "      <td>907.0</td>\n",
              "      <td>369.0</td>\n",
              "      <td>2.3571</td>\n",
              "      <td>111400.0</td>\n",
              "    </tr>\n",
              "    <tr>\n",
              "      <th>16996</th>\n",
              "      <td>-124.27</td>\n",
              "      <td>40.69</td>\n",
              "      <td>36.0</td>\n",
              "      <td>2349.0</td>\n",
              "      <td>528.0</td>\n",
              "      <td>1194.0</td>\n",
              "      <td>465.0</td>\n",
              "      <td>2.5179</td>\n",
              "      <td>79000.0</td>\n",
              "    </tr>\n",
              "    <tr>\n",
              "      <th>16997</th>\n",
              "      <td>-124.30</td>\n",
              "      <td>41.84</td>\n",
              "      <td>17.0</td>\n",
              "      <td>2677.0</td>\n",
              "      <td>531.0</td>\n",
              "      <td>1244.0</td>\n",
              "      <td>456.0</td>\n",
              "      <td>3.0313</td>\n",
              "      <td>103600.0</td>\n",
              "    </tr>\n",
              "    <tr>\n",
              "      <th>16998</th>\n",
              "      <td>-124.30</td>\n",
              "      <td>41.80</td>\n",
              "      <td>19.0</td>\n",
              "      <td>2672.0</td>\n",
              "      <td>552.0</td>\n",
              "      <td>1298.0</td>\n",
              "      <td>478.0</td>\n",
              "      <td>1.9797</td>\n",
              "      <td>85800.0</td>\n",
              "    </tr>\n",
              "    <tr>\n",
              "      <th>16999</th>\n",
              "      <td>-124.35</td>\n",
              "      <td>40.54</td>\n",
              "      <td>52.0</td>\n",
              "      <td>1820.0</td>\n",
              "      <td>300.0</td>\n",
              "      <td>806.0</td>\n",
              "      <td>270.0</td>\n",
              "      <td>3.0147</td>\n",
              "      <td>94600.0</td>\n",
              "    </tr>\n",
              "  </tbody>\n",
              "</table>\n",
              "<p>17000 rows × 9 columns</p>\n",
              "</div>"
            ],
            "text/plain": [
              "       longitude  latitude  ...  median_income  median_house_value\n",
              "0        -114.31     34.19  ...         1.4936             66900.0\n",
              "1        -114.47     34.40  ...         1.8200             80100.0\n",
              "2        -114.56     33.69  ...         1.6509             85700.0\n",
              "3        -114.57     33.64  ...         3.1917             73400.0\n",
              "4        -114.57     33.57  ...         1.9250             65500.0\n",
              "...          ...       ...  ...            ...                 ...\n",
              "16995    -124.26     40.58  ...         2.3571            111400.0\n",
              "16996    -124.27     40.69  ...         2.5179             79000.0\n",
              "16997    -124.30     41.84  ...         3.0313            103600.0\n",
              "16998    -124.30     41.80  ...         1.9797             85800.0\n",
              "16999    -124.35     40.54  ...         3.0147             94600.0\n",
              "\n",
              "[17000 rows x 9 columns]"
            ]
          },
          "metadata": {},
          "execution_count": 1
        }
      ]
    },
    {
      "cell_type": "markdown",
      "source": [
        "# New Section"
      ],
      "metadata": {
        "id": "P0NvYFkX0Huu"
      }
    },
    {
      "cell_type": "markdown",
      "source": [
        "# New Section"
      ],
      "metadata": {
        "id": "AClUjCzPyeQV"
      }
    },
    {
      "cell_type": "code",
      "metadata": {
        "colab": {
          "base_uri": "https://localhost:8080/",
          "height": 296
        },
        "id": "w3lYjppotvKD",
        "outputId": "c9b387e0-4656-4c2b-ac00-329647ecea27"
      },
      "source": [
        "import matplotlib.pyplot as plt\n",
        "\n",
        "pop = df['population']\n",
        "bedrooms = df['total_bedrooms']\n",
        "\n",
        "plt.scatter(pop, bedrooms)\n",
        "plt.xlabel('Population')\n",
        "plt.ylabel('Total Bedrooms')"
      ],
      "execution_count": null,
      "outputs": [
        {
          "output_type": "execute_result",
          "data": {
            "text/plain": [
              "Text(0, 0.5, 'Total Bedrooms')"
            ]
          },
          "metadata": {},
          "execution_count": 2
        },
        {
          "output_type": "display_data",
          "data": {
            "image/png": "[encoded data removed]",
            "text/plain": [
              "<Figure size 432x288 with 1 Axes>"
            ]
          },
          "metadata": {
            "needs_background": "light"
          }
        }
      ]
    },
    {
      "cell_type": "code",
      "metadata": {
        "colab": {
          "base_uri": "https://localhost:8080/"
        },
        "id": "JgF_t7LXuKd4",
        "outputId": "0c603027-ffbc-40ed-f8f5-1753d29366ab"
      },
      "source": [
        "pop_np = pop.to_numpy()\n",
        "bedrooms_np = bedrooms.to_numpy()\n",
        "\n",
        "pop_np.shape, bedrooms_np.shape"
      ],
      "execution_count": null,
      "outputs": [
        {
          "output_type": "execute_result",
          "data": {
            "text/plain": [
              "((17000,), (17000,))"
            ]
          },
          "metadata": {},
          "execution_count": 3
        }
      ]
    },
    {
      "cell_type": "code",
      "metadata": {
        "colab": {
          "base_uri": "https://localhost:8080/"
        },
        "id": "EJAJ--poulcn",
        "outputId": "ef8e4b3d-9979-4936-c901-d5b462478941"
      },
      "source": [
        "from sklearn.linear_model import LinearRegression\n",
        "\n",
        "sklearn_model = LinearRegression().fit(pop_np.reshape((17000, 1)), bedrooms_np)\n",
        "sklearn_bedroom_predictions = sklearn_model.predict(pop_np.reshape((17000, 1)))\n",
        "sklearn_bedroom_predictions.shape"
      ],
      "execution_count": null,
      "outputs": [
        {
          "output_type": "execute_result",
          "data": {
            "text/plain": [
              "(17000,)"
            ]
          },
          "metadata": {},
          "execution_count": 4
        }
      ]
    },
    {
      "cell_type": "code",
      "metadata": {
        "colab": {
          "base_uri": "https://localhost:8080/",
          "height": 297
        },
        "id": "PjbVjuR6vKuF",
        "outputId": "f19c535e-62be-4e9f-8b2a-161b6fbdba6a"
      },
      "source": [
        "pop = df['population']\n",
        "bedrooms = df['total_bedrooms']\n",
        "\n",
        "plt.scatter(pop, bedrooms)\n",
        "plt.xlabel('Population')\n",
        "plt.ylabel('Total Bedrooms')\n",
        "\n",
        "plt.scatter(pop, sklearn_bedroom_predictions)"
      ],
      "execution_count": null,
      "outputs": [
        {
          "output_type": "execute_result",
          "data": {
            "text/plain": [
              "<matplotlib.collections.PathCollection at 0x7f99ebd0a850>"
            ]
          },
          "metadata": {},
          "execution_count": 5
        },
        {
          "output_type": "display_data",
          "data": {
            "image/png": "[encoded data removed]",
            "text/plain": [
              "<Figure size 432x288 with 1 Axes>"
            ]
          },
          "metadata": {
            "needs_background": "light"
          }
        }
      ]
    },
    {
      "cell_type": "code",
      "metadata": {
        "colab": {
          "base_uri": "https://localhost:8080/",
          "height": 420
        },
        "id": "9scrCzFRvOSo",
        "outputId": "39fcab94-100d-48b8-b0b8-ab9a465f7a3b"
      },
      "source": [
        "predictions_df = pd.DataFrame({'Population':pop,\n",
        "                               'Bedrooms':bedrooms,\n",
        "                               'Sklearn Bedroom Predictions':sklearn_bedroom_predictions})\n",
        "predictions_df"
      ],
      "execution_count": null,
      "outputs": [
        {
          "output_type": "execute_result",
          "data": {
            "text/html": [
              "<div>\n",
              "<style scoped>\n",
              "    .dataframe tbody tr th:only-of-type {\n",
              "        vertical-align: middle;\n",
              "    }\n",
              "\n",
              "    .dataframe tbody tr th {\n",
              "        vertical-align: top;\n",
              "    }\n",
              "\n",
              "    .dataframe thead th {\n",
              "        text-align: right;\n",
              "    }\n",
              "</style>\n",
              "<table border=\"1\" class=\"dataframe\">\n",
              "  <thead>\n",
              "    <tr style=\"text-align: right;\">\n",
              "      <th></th>\n",
              "      <th>Population</th>\n",
              "      <th>Bedrooms</th>\n",
              "      <th>Sklearn Bedroom Predictions</th>\n",
              "    </tr>\n",
              "  </thead>\n",
              "  <tbody>\n",
              "    <tr>\n",
              "      <th>0</th>\n",
              "      <td>1015.0</td>\n",
              "      <td>1283.0</td>\n",
              "      <td>405.266668</td>\n",
              "    </tr>\n",
              "    <tr>\n",
              "      <th>1</th>\n",
              "      <td>1129.0</td>\n",
              "      <td>1901.0</td>\n",
              "      <td>442.153776</td>\n",
              "    </tr>\n",
              "    <tr>\n",
              "      <th>2</th>\n",
              "      <td>333.0</td>\n",
              "      <td>174.0</td>\n",
              "      <td>184.591162</td>\n",
              "    </tr>\n",
              "    <tr>\n",
              "      <th>3</th>\n",
              "      <td>515.0</td>\n",
              "      <td>337.0</td>\n",
              "      <td>243.481106</td>\n",
              "    </tr>\n",
              "    <tr>\n",
              "      <th>4</th>\n",
              "      <td>624.0</td>\n",
              "      <td>326.0</td>\n",
              "      <td>278.750359</td>\n",
              "    </tr>\n",
              "    <tr>\n",
              "      <th>...</th>\n",
              "      <td>...</td>\n",
              "      <td>...</td>\n",
              "      <td>...</td>\n",
              "    </tr>\n",
              "    <tr>\n",
              "      <th>16995</th>\n",
              "      <td>907.0</td>\n",
              "      <td>394.0</td>\n",
              "      <td>370.320987</td>\n",
              "    </tr>\n",
              "    <tr>\n",
              "      <th>16996</th>\n",
              "      <td>1194.0</td>\n",
              "      <td>528.0</td>\n",
              "      <td>463.185899</td>\n",
              "    </tr>\n",
              "    <tr>\n",
              "      <th>16997</th>\n",
              "      <td>1244.0</td>\n",
              "      <td>531.0</td>\n",
              "      <td>479.364455</td>\n",
              "    </tr>\n",
              "    <tr>\n",
              "      <th>16998</th>\n",
              "      <td>1298.0</td>\n",
              "      <td>552.0</td>\n",
              "      <td>496.837296</td>\n",
              "    </tr>\n",
              "    <tr>\n",
              "      <th>16999</th>\n",
              "      <td>806.0</td>\n",
              "      <td>300.0</td>\n",
              "      <td>337.640303</td>\n",
              "    </tr>\n",
              "  </tbody>\n",
              "</table>\n",
              "<p>17000 rows × 3 columns</p>\n",
              "</div>"
            ],
            "text/plain": [
              "       Population  Bedrooms  Sklearn Bedroom Predictions\n",
              "0          1015.0    1283.0                   405.266668\n",
              "1          1129.0    1901.0                   442.153776\n",
              "2           333.0     174.0                   184.591162\n",
              "3           515.0     337.0                   243.481106\n",
              "4           624.0     326.0                   278.750359\n",
              "...           ...       ...                          ...\n",
              "16995       907.0     394.0                   370.320987\n",
              "16996      1194.0     528.0                   463.185899\n",
              "16997      1244.0     531.0                   479.364455\n",
              "16998      1298.0     552.0                   496.837296\n",
              "16999       806.0     300.0                   337.640303\n",
              "\n",
              "[17000 rows x 3 columns]"
            ]
          },
          "metadata": {},
          "execution_count": 6
        }
      ]
    },
    {
      "cell_type": "code",
      "metadata": {
        "id": "ijK1FWKGvoDt"
      },
      "source": [
        "# Assuming total_bedrooms[i] = alpha + (beta * population[i]) + error\n",
        "# Generally: y[i] = alpha + (beta * x[i]) + error\n",
        "# Model:     y_hat[i] = alpha_hat + (beta_hat * x[i])\n",
        "\n",
        "def get_predictions(model, x):\n",
        "  '''\n",
        "  Obtain the predictions for the given model and inputs.\n",
        "\n",
        "  model: {'alpha_hat':Number, 'beta_hat':Number}\n",
        "  x: np.array of Floats with shape (n,) of inputs\n",
        "\n",
        "  Returns: np.array of Floats with shape (n,).\n",
        "  '''\n",
        "  alpha_hat = model['alpha_hat']\n",
        "  beta_hat = model['beta_hat']\n",
        "\n",
        "  return alpha_hat + beta_hat * x"
      ],
      "execution_count": null,
      "outputs": []
    },
    {
      "cell_type": "code",
      "metadata": {
        "colab": {
          "base_uri": "https://localhost:8080/"
        },
        "id": "MPpbCRTQxCwD",
        "outputId": "e3b76ee6-ee54-434d-844c-89d9a57674a6"
      },
      "source": [
        "# Testing get_predictions\n",
        "\n",
        "test_model = {'alpha_hat':1, 'beta_hat':1/2}\n",
        "test_x = np.array([1, 4, 3])\n",
        "get_predictions(test_model, test_x)"
      ],
      "execution_count": null,
      "outputs": [
        {
          "output_type": "execute_result",
          "data": {
            "text/plain": [
              "array([1.5, 3. , 2.5])"
            ]
          },
          "metadata": {},
          "execution_count": 8
        }
      ]
    },
    {
      "cell_type": "code",
      "metadata": {
        "colab": {
          "base_uri": "https://localhost:8080/",
          "height": 296
        },
        "id": "zS2vUpDexJeB",
        "outputId": "7a149ff0-2a28-40b9-ba7f-cfd10d36a5fe"
      },
      "source": [
        "pop = df['population']\n",
        "bedrooms = df['total_bedrooms']\n",
        "\n",
        "plt.scatter(pop, bedrooms)\n",
        "plt.xlabel('Population')\n",
        "plt.ylabel('Total Bedrooms')\n",
        "\n",
        "plt.scatter(pop, get_predictions(test_model, pop_np))"
      ],
      "execution_count": null,
      "outputs": [
        {
          "output_type": "execute_result",
          "data": {
            "text/plain": [
              "<matplotlib.collections.PathCollection at 0x7f99ebca3b50>"
            ]
          },
          "metadata": {},
          "execution_count": 9
        },
        {
          "output_type": "display_data",
          "data": {
            "image/png": "[encoded data removed]",
            "text/plain": [
              "<Figure size 432x288 with 1 Axes>"
            ]
          },
          "metadata": {
            "needs_background": "light"
          }
        }
      ]
    },
    {
      "cell_type": "code",
      "metadata": {
        "id": "sQR2NWiIxgye"
      },
      "source": [
        "def mean_squared_error(y, y_predictions):\n",
        "  '''\n",
        "  Returns the mean squared error given the observed and predicted outputs.\n",
        "\n",
        "  y: np.array of Floats with shape (n,) of observed outputs\n",
        "  y_predictions: np.array of Floats with shape (n,) of predicted outputs\n",
        "\n",
        "  Returns: Float representing the MSE.\n",
        "  '''\n",
        "  n = len(y)\n",
        "  return np.sum(np.square(y - y_predictions)) / n\n",
        "\n",
        "def mean_absolute_error(y, y_predictions):\n",
        "  '''\n",
        "  Returns the mean absolute error given the observed and predicted outputs.\n",
        "\n",
        "  y: np.array of Floats with shape (n,) of observed outputs\n",
        "  y_predictions: np.array of Floats with shape (n,) of predicted outputs\n",
        "\n",
        "  Returns: Float representing the MSE.\n",
        "  '''\n",
        "  n = len(y)\n",
        "  return np.sum(np.abs(y - y_predictions)) / n\n"
      ],
      "execution_count": null,
      "outputs": []
    },
    {
      "cell_type": "code",
      "metadata": {
        "colab": {
          "base_uri": "https://localhost:8080/"
        },
        "id": "2EMBPV0gyrmx",
        "outputId": "363087f2-c0e3-45b3-f37e-53347595cfdb"
      },
      "source": [
        "mse1 = mean_squared_error(get_predictions(test_model, pop_np), bedrooms)\n",
        "mse1"
      ],
      "execution_count": null,
      "outputs": [
        {
          "output_type": "execute_result",
          "data": {
            "text/plain": [
              "111830.7436617647"
            ]
          },
          "metadata": {},
          "execution_count": 11
        }
      ]
    },
    {
      "cell_type": "code",
      "metadata": {
        "colab": {
          "base_uri": "https://localhost:8080/"
        },
        "id": "rDkW9O6Ny0cd",
        "outputId": "e4e1d95b-20c7-4d7f-fcd3-b7e4baf188fb"
      },
      "source": [
        "mae1 = mean_absolute_error(get_predictions(test_model, pop_np), bedrooms)\n",
        "mae1"
      ],
      "execution_count": null,
      "outputs": [
        {
          "output_type": "execute_result",
          "data": {
            "text/plain": [
              "213.45373529411765"
            ]
          },
          "metadata": {},
          "execution_count": 12
        }
      ]
    },
    {
      "cell_type": "markdown",
      "metadata": {
        "id": "JLolfjRyQMcA"
      },
      "source": [
        "### Some formulas\n",
        "$\\hat{\\beta} = \\frac{\\sum_{i=1}^n(x_i - \\bar{x})(y_i - \\bar{y})}{\\sum_{i=1}^n(x_i - \\bar{x})^2}$, $\\hat{\\alpha} = \\bar{y} - \\hat{\\beta} \\bar{x}$"
      ]
    },
    {
      "cell_type": "code",
      "metadata": {
        "id": "XOrilwrjzGCD"
      },
      "source": [
        "def get_best_model(x, y):\n",
        "  '''\n",
        "  Returns the model with the parameters that minimize the MSE.\n",
        "\n",
        "  x: np.array of Floats with shape (n,) of inputs\n",
        "  y: np.array of Floats with shape (n,) of outputs\n",
        "\n",
        "  Returns: {'alpha_hat':Float, 'beta_hat':Float} representing the model.\n",
        "  '''\n",
        "\n",
        "  x_bar = np.average(x)\n",
        "  y_bar = np.average(y)\n",
        "\n",
        "  top = np.sum((x - x_bar)*(y - y_bar))\n",
        "  bot = np.sum((x - x_bar)**2)\n",
        "  beta_hat = top / bot\n",
        "\n",
        "  alpha_hat = y_bar - beta_hat*x_bar\n",
        "\n",
        "  model = {'alpha_hat':alpha_hat, 'beta_hat':beta_hat}\n",
        "\n",
        "  return model"
      ],
      "execution_count": null,
      "outputs": []
    },
    {
      "cell_type": "code",
      "metadata": {
        "colab": {
          "base_uri": "https://localhost:8080/"
        },
        "id": "KhgR5UqaRqA7",
        "outputId": "072b5d25-9b4a-4290-a5a5-28d0b58c9bfd"
      },
      "source": [
        "best_model = get_best_model(pop_np, bedrooms_np)\n",
        "best_model"
      ],
      "execution_count": null,
      "outputs": [
        {
          "output_type": "execute_result",
          "data": {
            "text/plain": [
              "{'alpha_hat': 76.84197820308827, 'beta_hat': 0.32357112283793565}"
            ]
          },
          "metadata": {},
          "execution_count": 14
        }
      ]
    },
    {
      "cell_type": "code",
      "metadata": {
        "colab": {
          "base_uri": "https://localhost:8080/",
          "height": 297
        },
        "id": "LYYitpGjRvqW",
        "outputId": "c1b1607b-9c6c-4d46-a93d-dc18f6695e6f"
      },
      "source": [
        "pop = df['population']\n",
        "bedrooms = df['total_bedrooms']\n",
        "\n",
        "plt.scatter(pop, bedrooms)\n",
        "plt.xlabel('Population')\n",
        "plt.ylabel('Total Bedrooms')\n",
        "\n",
        "plt.scatter(pop, get_predictions(best_model, pop_np))"
      ],
      "execution_count": null,
      "outputs": [
        {
          "output_type": "execute_result",
          "data": {
            "text/plain": [
              "<matplotlib.collections.PathCollection at 0x7f99e6dcfb10>"
            ]
          },
          "metadata": {},
          "execution_count": 15
        },
        {
          "output_type": "display_data",
          "data": {
            "image/png": "[encoded data removed]",
            "text/plain": [
              "<Figure size 432x288 with 1 Axes>"
            ]
          },
          "metadata": {
            "needs_background": "light"
          }
        }
      ]
    },
    {
      "cell_type": "code",
      "metadata": {
        "colab": {
          "base_uri": "https://localhost:8080/",
          "height": 420
        },
        "id": "NB7Y24qcR2mp",
        "outputId": "9a0b8cb9-9b08-4ac0-a427-b0c642c70817"
      },
      "source": [
        "predictions_df['Our Model Predictions'] = get_predictions(best_model, pop_np)\n",
        "predictions_df"
      ],
      "execution_count": null,
      "outputs": [
        {
          "output_type": "execute_result",
          "data": {
            "text/html": [
              "<div>\n",
              "<style scoped>\n",
              "    .dataframe tbody tr th:only-of-type {\n",
              "        vertical-align: middle;\n",
              "    }\n",
              "\n",
              "    .dataframe tbody tr th {\n",
              "        vertical-align: top;\n",
              "    }\n",
              "\n",
              "    .dataframe thead th {\n",
              "        text-align: right;\n",
              "    }\n",
              "</style>\n",
              "<table border=\"1\" class=\"dataframe\">\n",
              "  <thead>\n",
              "    <tr style=\"text-align: right;\">\n",
              "      <th></th>\n",
              "      <th>Population</th>\n",
              "      <th>Bedrooms</th>\n",
              "      <th>Sklearn Bedroom Predictions</th>\n",
              "      <th>Our Model Predictions</th>\n",
              "    </tr>\n",
              "  </thead>\n",
              "  <tbody>\n",
              "    <tr>\n",
              "      <th>0</th>\n",
              "      <td>1015.0</td>\n",
              "      <td>1283.0</td>\n",
              "      <td>405.266668</td>\n",
              "      <td>405.266668</td>\n",
              "    </tr>\n",
              "    <tr>\n",
              "      <th>1</th>\n",
              "      <td>1129.0</td>\n",
              "      <td>1901.0</td>\n",
              "      <td>442.153776</td>\n",
              "      <td>442.153776</td>\n",
              "    </tr>\n",
              "    <tr>\n",
              "      <th>2</th>\n",
              "      <td>333.0</td>\n",
              "      <td>174.0</td>\n",
              "      <td>184.591162</td>\n",
              "      <td>184.591162</td>\n",
              "    </tr>\n",
              "    <tr>\n",
              "      <th>3</th>\n",
              "      <td>515.0</td>\n",
              "      <td>337.0</td>\n",
              "      <td>243.481106</td>\n",
              "      <td>243.481106</td>\n",
              "    </tr>\n",
              "    <tr>\n",
              "      <th>4</th>\n",
              "      <td>624.0</td>\n",
              "      <td>326.0</td>\n",
              "      <td>278.750359</td>\n",
              "      <td>278.750359</td>\n",
              "    </tr>\n",
              "    <tr>\n",
              "      <th>...</th>\n",
              "      <td>...</td>\n",
              "      <td>...</td>\n",
              "      <td>...</td>\n",
              "      <td>...</td>\n",
              "    </tr>\n",
              "    <tr>\n",
              "      <th>16995</th>\n",
              "      <td>907.0</td>\n",
              "      <td>394.0</td>\n",
              "      <td>370.320987</td>\n",
              "      <td>370.320987</td>\n",
              "    </tr>\n",
              "    <tr>\n",
              "      <th>16996</th>\n",
              "      <td>1194.0</td>\n",
              "      <td>528.0</td>\n",
              "      <td>463.185899</td>\n",
              "      <td>463.185899</td>\n",
              "    </tr>\n",
              "    <tr>\n",
              "      <th>16997</th>\n",
              "      <td>1244.0</td>\n",
              "      <td>531.0</td>\n",
              "      <td>479.364455</td>\n",
              "      <td>479.364455</td>\n",
              "    </tr>\n",
              "    <tr>\n",
              "      <th>16998</th>\n",
              "      <td>1298.0</td>\n",
              "      <td>552.0</td>\n",
              "      <td>496.837296</td>\n",
              "      <td>496.837296</td>\n",
              "    </tr>\n",
              "    <tr>\n",
              "      <th>16999</th>\n",
              "      <td>806.0</td>\n",
              "      <td>300.0</td>\n",
              "      <td>337.640303</td>\n",
              "      <td>337.640303</td>\n",
              "    </tr>\n",
              "  </tbody>\n",
              "</table>\n",
              "<p>17000 rows × 4 columns</p>\n",
              "</div>"
            ],
            "text/plain": [
              "       Population  Bedrooms  Sklearn Bedroom Predictions  Our Model Predictions\n",
              "0          1015.0    1283.0                   405.266668             405.266668\n",
              "1          1129.0    1901.0                   442.153776             442.153776\n",
              "2           333.0     174.0                   184.591162             184.591162\n",
              "3           515.0     337.0                   243.481106             243.481106\n",
              "4           624.0     326.0                   278.750359             278.750359\n",
              "...           ...       ...                          ...                    ...\n",
              "16995       907.0     394.0                   370.320987             370.320987\n",
              "16996      1194.0     528.0                   463.185899             463.185899\n",
              "16997      1244.0     531.0                   479.364455             479.364455\n",
              "16998      1298.0     552.0                   496.837296             496.837296\n",
              "16999       806.0     300.0                   337.640303             337.640303\n",
              "\n",
              "[17000 rows x 4 columns]"
            ]
          },
          "metadata": {},
          "execution_count": 17
        }
      ]
    },
    {
      "cell_type": "code",
      "metadata": {
        "colab": {
          "base_uri": "https://localhost:8080/"
        },
        "id": "KVbri7xvR7eY",
        "outputId": "0a9762ed-884a-4619-c331-da9e4b09e7aa"
      },
      "source": [
        "# Show the mean absolute error for our model\n",
        "\n",
        "mean_absolute_error(predictions_df['Bedrooms'],\n",
        "                    predictions_df['Our Model Predictions'])"
      ],
      "execution_count": null,
      "outputs": [
        {
          "output_type": "execute_result",
          "data": {
            "text/plain": [
              "118.46978339085754"
            ]
          },
          "metadata": {},
          "execution_count": 18
        }
      ]
    }
  ]
}